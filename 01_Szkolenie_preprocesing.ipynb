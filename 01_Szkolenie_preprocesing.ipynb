{
  "nbformat": 4,
  "nbformat_minor": 0,
  "metadata": {
    "colab": {
      "name": "01_Szkolenie_preprocesing.ipynb",
      "provenance": [],
      "collapsed_sections": [],
      "authorship_tag": "ABX9TyMruxtvs3UmGwct+FECkhUZ",
      "include_colab_link": true
    },
    "kernelspec": {
      "name": "python3",
      "display_name": "Python 3"
    },
    "language_info": {
      "name": "python"
    }
  },
  "cells": [
    {
      "cell_type": "markdown",
      "metadata": {
        "id": "view-in-github",
        "colab_type": "text"
      },
      "source": [
        "<a href=\"https://colab.research.google.com/github/bartlomiejmiszewski/Nauka/blob/main/01_Szkolenie_preprocesing.ipynb\" target=\"_parent\"><img src=\"https://colab.research.google.com/assets/colab-badge.svg\" alt=\"Open In Colab\"/></a>"
      ]
    },
    {
      "cell_type": "markdown",
      "metadata": {
        "id": "rTophDOO1TYo"
      },
      "source": [
        "# Szkolenie preprocesing"
      ]
    },
    {
      "cell_type": "markdown",
      "metadata": {
        "id": "lbxzoRYuIhXm"
      },
      "source": [
        "### scikit-learn\n",
        "Strona biblioteki: [https://scikit-learn.org](https://scikit-learn.org)  \n",
        "\n",
        "Dokumentacja/User Guide: [https://scikit-learn.org/stable/user_guide.html](https://scikit-learn.org/stable/user_guide.html)\n",
        "\n",
        "### Ćwiczenia przy użyciu poniższych bibliotek:\n",
        "\n",
        "*   from sklearn.preprocessing import LabelEncoder\n",
        "*   from sklearn.preprocessing import OneHotEncoder\n",
        "*   from sklearn.preprocessing import scale\n",
        "*   from sklearn.preprocessing import StandardScaler\n",
        "\n",
        "oraz pd.get_dummies()\n"
      ]
    },
    {
      "cell_type": "markdown",
      "metadata": {
        "id": "aq06Z1-OHjng"
      },
      "source": [
        "### Preprocessing danych spis treści ćwiczeń:\n",
        "\n",
        "\n",
        "\n",
        "1.   [Import bibliotek](#0)\n",
        "2.   [Wygenerowanie danych](#1)\n",
        "3.   [Utworzenie kopii danych](#2)\n",
        "4.   [Zmiana typu danych i wstępna eksploracja](#3)\n",
        "5.   [LabelEncoder](#4)\n",
        "6.   [OneHotEncoder](#5)\n",
        "7.   [pd.get_dummies()](#6)\n",
        "8.   [Standaryzacja - StandardScaler](#7)\n",
        "9.   [Przygotowanie danych do modelu - podsumowanie](#8)\n",
        "\n",
        "\n"
      ]
    },
    {
      "cell_type": "markdown",
      "metadata": {
        "id": "gTiEQCppS9D4"
      },
      "source": [
        "### <a name='0'></a> 1. Import bibliotek"
      ]
    },
    {
      "cell_type": "code",
      "metadata": {
        "id": "qmHGut4AM6Q3"
      },
      "source": [
        "import pandas as pd\n",
        "import numpy as np\n",
        "import sklearn"
      ],
      "execution_count": 376,
      "outputs": []
    },
    {
      "cell_type": "markdown",
      "metadata": {
        "id": "JGgIW7CYKcJu"
      },
      "source": [
        "### <a name='1'></a> 2. Wygenerowanie danych"
      ]
    },
    {
      "cell_type": "code",
      "metadata": {
        "id": "KYkSOL9EKl0Q"
      },
      "source": [
        "dane = {\n",
        "    'size' : ['XL', 'L', 'M', 'L', 'M'],\n",
        "    'color' : ['red', 'green', 'blue', 'green', 'red'],\n",
        "    'gender': ['female', 'male', 'male', 'female', 'female'],\n",
        "    'price': [199.0, 89.0, 99.0, 129.0, 79.0],\n",
        "    'weight': [500, 450, 300, 380, 410],\n",
        "    'bought': ['yes', 'no', 'yes', 'no', 'yes']\n",
        "}"
      ],
      "execution_count": 377,
      "outputs": []
    },
    {
      "cell_type": "code",
      "metadata": {
        "colab": {
          "base_uri": "https://localhost:8080/",
          "height": 195
        },
        "id": "sTZ_wJbDNqPs",
        "outputId": "e83d6b31-8f29-4b50-f846-8c95e597b89a"
      },
      "source": [
        "df_raw = pd.DataFrame(data=dane)\n",
        "df_raw"
      ],
      "execution_count": 378,
      "outputs": [
        {
          "output_type": "execute_result",
          "data": {
            "text/html": [
              "<div>\n",
              "<style scoped>\n",
              "    .dataframe tbody tr th:only-of-type {\n",
              "        vertical-align: middle;\n",
              "    }\n",
              "\n",
              "    .dataframe tbody tr th {\n",
              "        vertical-align: top;\n",
              "    }\n",
              "\n",
              "    .dataframe thead th {\n",
              "        text-align: right;\n",
              "    }\n",
              "</style>\n",
              "<table border=\"1\" class=\"dataframe\">\n",
              "  <thead>\n",
              "    <tr style=\"text-align: right;\">\n",
              "      <th></th>\n",
              "      <th>size</th>\n",
              "      <th>color</th>\n",
              "      <th>gender</th>\n",
              "      <th>price</th>\n",
              "      <th>weight</th>\n",
              "      <th>bought</th>\n",
              "    </tr>\n",
              "  </thead>\n",
              "  <tbody>\n",
              "    <tr>\n",
              "      <th>0</th>\n",
              "      <td>XL</td>\n",
              "      <td>red</td>\n",
              "      <td>female</td>\n",
              "      <td>199.0</td>\n",
              "      <td>500</td>\n",
              "      <td>yes</td>\n",
              "    </tr>\n",
              "    <tr>\n",
              "      <th>1</th>\n",
              "      <td>L</td>\n",
              "      <td>green</td>\n",
              "      <td>male</td>\n",
              "      <td>89.0</td>\n",
              "      <td>450</td>\n",
              "      <td>no</td>\n",
              "    </tr>\n",
              "    <tr>\n",
              "      <th>2</th>\n",
              "      <td>M</td>\n",
              "      <td>blue</td>\n",
              "      <td>male</td>\n",
              "      <td>99.0</td>\n",
              "      <td>300</td>\n",
              "      <td>yes</td>\n",
              "    </tr>\n",
              "    <tr>\n",
              "      <th>3</th>\n",
              "      <td>L</td>\n",
              "      <td>green</td>\n",
              "      <td>female</td>\n",
              "      <td>129.0</td>\n",
              "      <td>380</td>\n",
              "      <td>no</td>\n",
              "    </tr>\n",
              "    <tr>\n",
              "      <th>4</th>\n",
              "      <td>M</td>\n",
              "      <td>red</td>\n",
              "      <td>female</td>\n",
              "      <td>79.0</td>\n",
              "      <td>410</td>\n",
              "      <td>yes</td>\n",
              "    </tr>\n",
              "  </tbody>\n",
              "</table>\n",
              "</div>"
            ],
            "text/plain": [
              "  size  color  gender  price  weight bought\n",
              "0   XL    red  female  199.0     500    yes\n",
              "1    L  green    male   89.0     450     no\n",
              "2    M   blue    male   99.0     300    yes\n",
              "3    L  green  female  129.0     380     no\n",
              "4    M    red  female   79.0     410    yes"
            ]
          },
          "metadata": {
            "tags": []
          },
          "execution_count": 378
        }
      ]
    },
    {
      "cell_type": "markdown",
      "metadata": {
        "id": "5gTQbZNHKycN"
      },
      "source": [
        "### <a name='2'></a> 3. Utworzenie kopii danych"
      ]
    },
    {
      "cell_type": "code",
      "metadata": {
        "colab": {
          "base_uri": "https://localhost:8080/"
        },
        "id": "lnGQBdrBK4Fx",
        "outputId": "291c0a8c-54a8-4642-d9de-255f7e92c0e8"
      },
      "source": [
        "df = df_raw.copy()\n",
        "\n",
        "df.info()\n",
        "#df.shape\n",
        "#df.describe().T"
      ],
      "execution_count": 379,
      "outputs": [
        {
          "output_type": "stream",
          "text": [
            "<class 'pandas.core.frame.DataFrame'>\n",
            "RangeIndex: 5 entries, 0 to 4\n",
            "Data columns (total 6 columns):\n",
            " #   Column  Non-Null Count  Dtype  \n",
            "---  ------  --------------  -----  \n",
            " 0   size    5 non-null      object \n",
            " 1   color   5 non-null      object \n",
            " 2   gender  5 non-null      object \n",
            " 3   price   5 non-null      float64\n",
            " 4   weight  5 non-null      int64  \n",
            " 5   bought  5 non-null      object \n",
            "dtypes: float64(1), int64(1), object(4)\n",
            "memory usage: 368.0+ bytes\n"
          ],
          "name": "stdout"
        }
      ]
    },
    {
      "cell_type": "markdown",
      "metadata": {
        "id": "lm3QjUeJLmJO"
      },
      "source": [
        "### <a name='3'></a> 4. Zmiana typu danych i wstępna eksploracja"
      ]
    },
    {
      "cell_type": "code",
      "metadata": {
        "id": "LrgOyCfnLvz5"
      },
      "source": [
        "#zamiana kolumn typu object na kolumny typu category\n",
        "for col in ['size', 'color', 'gender', 'bought']:\n",
        "  df[col] = df[col].astype('category')"
      ],
      "execution_count": 380,
      "outputs": []
    },
    {
      "cell_type": "code",
      "metadata": {
        "id": "Ec1P5Fb0RZ2B"
      },
      "source": [
        "#zamiana kolumny typu int na kolumnę typu float\n",
        "df['weight'] = df['weight'].astype('float')"
      ],
      "execution_count": 381,
      "outputs": []
    },
    {
      "cell_type": "code",
      "metadata": {
        "colab": {
          "base_uri": "https://localhost:8080/"
        },
        "id": "5VgI3gigRjOx",
        "outputId": "6384e354-f29a-47fe-e7eb-6a69b61a2a0c"
      },
      "source": [
        "df.info()"
      ],
      "execution_count": 382,
      "outputs": [
        {
          "output_type": "stream",
          "text": [
            "<class 'pandas.core.frame.DataFrame'>\n",
            "RangeIndex: 5 entries, 0 to 4\n",
            "Data columns (total 6 columns):\n",
            " #   Column  Non-Null Count  Dtype   \n",
            "---  ------  --------------  -----   \n",
            " 0   size    5 non-null      category\n",
            " 1   color   5 non-null      category\n",
            " 2   gender  5 non-null      category\n",
            " 3   price   5 non-null      float64 \n",
            " 4   weight  5 non-null      float64 \n",
            " 5   bought  5 non-null      category\n",
            "dtypes: category(4), float64(2)\n",
            "memory usage: 628.0 bytes\n"
          ],
          "name": "stdout"
        }
      ]
    },
    {
      "cell_type": "code",
      "metadata": {
        "colab": {
          "base_uri": "https://localhost:8080/",
          "height": 166
        },
        "id": "ScawbBQLSduz",
        "outputId": "a41eeded-0e0e-461a-bb56-c60ab8505544"
      },
      "source": [
        "#df.describe().T\n",
        "df.describe(include=['category']).T"
      ],
      "execution_count": 383,
      "outputs": [
        {
          "output_type": "execute_result",
          "data": {
            "text/html": [
              "<div>\n",
              "<style scoped>\n",
              "    .dataframe tbody tr th:only-of-type {\n",
              "        vertical-align: middle;\n",
              "    }\n",
              "\n",
              "    .dataframe tbody tr th {\n",
              "        vertical-align: top;\n",
              "    }\n",
              "\n",
              "    .dataframe thead th {\n",
              "        text-align: right;\n",
              "    }\n",
              "</style>\n",
              "<table border=\"1\" class=\"dataframe\">\n",
              "  <thead>\n",
              "    <tr style=\"text-align: right;\">\n",
              "      <th></th>\n",
              "      <th>count</th>\n",
              "      <th>unique</th>\n",
              "      <th>top</th>\n",
              "      <th>freq</th>\n",
              "    </tr>\n",
              "  </thead>\n",
              "  <tbody>\n",
              "    <tr>\n",
              "      <th>size</th>\n",
              "      <td>5</td>\n",
              "      <td>3</td>\n",
              "      <td>M</td>\n",
              "      <td>2</td>\n",
              "    </tr>\n",
              "    <tr>\n",
              "      <th>color</th>\n",
              "      <td>5</td>\n",
              "      <td>3</td>\n",
              "      <td>red</td>\n",
              "      <td>2</td>\n",
              "    </tr>\n",
              "    <tr>\n",
              "      <th>gender</th>\n",
              "      <td>5</td>\n",
              "      <td>2</td>\n",
              "      <td>female</td>\n",
              "      <td>3</td>\n",
              "    </tr>\n",
              "    <tr>\n",
              "      <th>bought</th>\n",
              "      <td>5</td>\n",
              "      <td>2</td>\n",
              "      <td>yes</td>\n",
              "      <td>3</td>\n",
              "    </tr>\n",
              "  </tbody>\n",
              "</table>\n",
              "</div>"
            ],
            "text/plain": [
              "       count unique     top freq\n",
              "size       5      3       M    2\n",
              "color      5      3     red    2\n",
              "gender     5      2  female    3\n",
              "bought     5      2     yes    3"
            ]
          },
          "metadata": {
            "tags": []
          },
          "execution_count": 383
        }
      ]
    },
    {
      "cell_type": "markdown",
      "metadata": {
        "id": "BEEiZfMzTsXR"
      },
      "source": [
        "### <a name='4'></a> 5. LabelEncoder"
      ]
    },
    {
      "cell_type": "code",
      "metadata": {
        "id": "noW6lMB4fakE"
      },
      "source": [
        "#ten rodzaj encodowania zalecany jest tylko dla zmiennej objaśnianej nazywanej często zmienną \"y\""
      ],
      "execution_count": 384,
      "outputs": []
    },
    {
      "cell_type": "code",
      "metadata": {
        "colab": {
          "base_uri": "https://localhost:8080/"
        },
        "id": "37-3C_82UaSO",
        "outputId": "9a1008aa-ba6e-4531-aa34-537c34acadb6"
      },
      "source": [
        "from sklearn.preprocessing import LabelEncoder\n",
        "\n",
        "le = LabelEncoder() #tworzenie instancji klasy LabelEncoder i przypisanie do zmiennej le\n",
        "#le.fit(df['bought']) #metoda dopasowująca encoder do zmiennej bought\n",
        "#le.transform(df['bought']) #metoda mapowania do zmiennej bought w tabeli df\n",
        "le.fit_transform(df['bought']) #skrócony zapis dwóch powyższych metod"
      ],
      "execution_count": 385,
      "outputs": [
        {
          "output_type": "execute_result",
          "data": {
            "text/plain": [
              "array([1, 0, 1, 0, 1])"
            ]
          },
          "metadata": {
            "tags": []
          },
          "execution_count": 385
        }
      ]
    },
    {
      "cell_type": "code",
      "metadata": {
        "colab": {
          "base_uri": "https://localhost:8080/"
        },
        "id": "HCThjG7PW-2L",
        "outputId": "63ce1266-8d48-4b07-8644-0748cebdcfdc"
      },
      "source": [
        "le.classes_ #atrybut listujący zmapowane kategorie/klasy"
      ],
      "execution_count": 386,
      "outputs": [
        {
          "output_type": "execute_result",
          "data": {
            "text/plain": [
              "array(['no', 'yes'], dtype=object)"
            ]
          },
          "metadata": {
            "tags": []
          },
          "execution_count": 386
        }
      ]
    },
    {
      "cell_type": "code",
      "metadata": {
        "colab": {
          "base_uri": "https://localhost:8080/",
          "height": 195
        },
        "id": "yqq-TgxnXJCG",
        "outputId": "aec76a1e-5617-48e0-a684-5a4355ad8c1e"
      },
      "source": [
        "df['bought'] = le.fit_transform(df['bought']) #przypisanie zmian do tabelki w kolumnie bought\n",
        "df"
      ],
      "execution_count": 387,
      "outputs": [
        {
          "output_type": "execute_result",
          "data": {
            "text/html": [
              "<div>\n",
              "<style scoped>\n",
              "    .dataframe tbody tr th:only-of-type {\n",
              "        vertical-align: middle;\n",
              "    }\n",
              "\n",
              "    .dataframe tbody tr th {\n",
              "        vertical-align: top;\n",
              "    }\n",
              "\n",
              "    .dataframe thead th {\n",
              "        text-align: right;\n",
              "    }\n",
              "</style>\n",
              "<table border=\"1\" class=\"dataframe\">\n",
              "  <thead>\n",
              "    <tr style=\"text-align: right;\">\n",
              "      <th></th>\n",
              "      <th>size</th>\n",
              "      <th>color</th>\n",
              "      <th>gender</th>\n",
              "      <th>price</th>\n",
              "      <th>weight</th>\n",
              "      <th>bought</th>\n",
              "    </tr>\n",
              "  </thead>\n",
              "  <tbody>\n",
              "    <tr>\n",
              "      <th>0</th>\n",
              "      <td>XL</td>\n",
              "      <td>red</td>\n",
              "      <td>female</td>\n",
              "      <td>199.0</td>\n",
              "      <td>500.0</td>\n",
              "      <td>1</td>\n",
              "    </tr>\n",
              "    <tr>\n",
              "      <th>1</th>\n",
              "      <td>L</td>\n",
              "      <td>green</td>\n",
              "      <td>male</td>\n",
              "      <td>89.0</td>\n",
              "      <td>450.0</td>\n",
              "      <td>0</td>\n",
              "    </tr>\n",
              "    <tr>\n",
              "      <th>2</th>\n",
              "      <td>M</td>\n",
              "      <td>blue</td>\n",
              "      <td>male</td>\n",
              "      <td>99.0</td>\n",
              "      <td>300.0</td>\n",
              "      <td>1</td>\n",
              "    </tr>\n",
              "    <tr>\n",
              "      <th>3</th>\n",
              "      <td>L</td>\n",
              "      <td>green</td>\n",
              "      <td>female</td>\n",
              "      <td>129.0</td>\n",
              "      <td>380.0</td>\n",
              "      <td>0</td>\n",
              "    </tr>\n",
              "    <tr>\n",
              "      <th>4</th>\n",
              "      <td>M</td>\n",
              "      <td>red</td>\n",
              "      <td>female</td>\n",
              "      <td>79.0</td>\n",
              "      <td>410.0</td>\n",
              "      <td>1</td>\n",
              "    </tr>\n",
              "  </tbody>\n",
              "</table>\n",
              "</div>"
            ],
            "text/plain": [
              "  size  color  gender  price  weight  bought\n",
              "0   XL    red  female  199.0   500.0       1\n",
              "1    L  green    male   89.0   450.0       0\n",
              "2    M   blue    male   99.0   300.0       1\n",
              "3    L  green  female  129.0   380.0       0\n",
              "4    M    red  female   79.0   410.0       1"
            ]
          },
          "metadata": {
            "tags": []
          },
          "execution_count": 387
        }
      ]
    },
    {
      "cell_type": "code",
      "metadata": {
        "colab": {
          "base_uri": "https://localhost:8080/"
        },
        "id": "c4AKMOBHXyGh",
        "outputId": "ca36ec00-2c23-44b7-d71e-7408e5187d11"
      },
      "source": [
        "#istnieje metoda odwracająca poczynione zmiany\n",
        "le.inverse_transform(df['bought'])"
      ],
      "execution_count": 388,
      "outputs": [
        {
          "output_type": "execute_result",
          "data": {
            "text/plain": [
              "array(['yes', 'no', 'yes', 'no', 'yes'], dtype=object)"
            ]
          },
          "metadata": {
            "tags": []
          },
          "execution_count": 388
        }
      ]
    },
    {
      "cell_type": "code",
      "metadata": {
        "colab": {
          "base_uri": "https://localhost:8080/",
          "height": 195
        },
        "id": "iltV292xevAO",
        "outputId": "3be72c59-f083-4de1-9a3e-815f0b3f309a"
      },
      "source": [
        "df['bought'] = le.inverse_transform(df['bought'])\n",
        "df"
      ],
      "execution_count": 389,
      "outputs": [
        {
          "output_type": "execute_result",
          "data": {
            "text/html": [
              "<div>\n",
              "<style scoped>\n",
              "    .dataframe tbody tr th:only-of-type {\n",
              "        vertical-align: middle;\n",
              "    }\n",
              "\n",
              "    .dataframe tbody tr th {\n",
              "        vertical-align: top;\n",
              "    }\n",
              "\n",
              "    .dataframe thead th {\n",
              "        text-align: right;\n",
              "    }\n",
              "</style>\n",
              "<table border=\"1\" class=\"dataframe\">\n",
              "  <thead>\n",
              "    <tr style=\"text-align: right;\">\n",
              "      <th></th>\n",
              "      <th>size</th>\n",
              "      <th>color</th>\n",
              "      <th>gender</th>\n",
              "      <th>price</th>\n",
              "      <th>weight</th>\n",
              "      <th>bought</th>\n",
              "    </tr>\n",
              "  </thead>\n",
              "  <tbody>\n",
              "    <tr>\n",
              "      <th>0</th>\n",
              "      <td>XL</td>\n",
              "      <td>red</td>\n",
              "      <td>female</td>\n",
              "      <td>199.0</td>\n",
              "      <td>500.0</td>\n",
              "      <td>yes</td>\n",
              "    </tr>\n",
              "    <tr>\n",
              "      <th>1</th>\n",
              "      <td>L</td>\n",
              "      <td>green</td>\n",
              "      <td>male</td>\n",
              "      <td>89.0</td>\n",
              "      <td>450.0</td>\n",
              "      <td>no</td>\n",
              "    </tr>\n",
              "    <tr>\n",
              "      <th>2</th>\n",
              "      <td>M</td>\n",
              "      <td>blue</td>\n",
              "      <td>male</td>\n",
              "      <td>99.0</td>\n",
              "      <td>300.0</td>\n",
              "      <td>yes</td>\n",
              "    </tr>\n",
              "    <tr>\n",
              "      <th>3</th>\n",
              "      <td>L</td>\n",
              "      <td>green</td>\n",
              "      <td>female</td>\n",
              "      <td>129.0</td>\n",
              "      <td>380.0</td>\n",
              "      <td>no</td>\n",
              "    </tr>\n",
              "    <tr>\n",
              "      <th>4</th>\n",
              "      <td>M</td>\n",
              "      <td>red</td>\n",
              "      <td>female</td>\n",
              "      <td>79.0</td>\n",
              "      <td>410.0</td>\n",
              "      <td>yes</td>\n",
              "    </tr>\n",
              "  </tbody>\n",
              "</table>\n",
              "</div>"
            ],
            "text/plain": [
              "  size  color  gender  price  weight bought\n",
              "0   XL    red  female  199.0   500.0    yes\n",
              "1    L  green    male   89.0   450.0     no\n",
              "2    M   blue    male   99.0   300.0    yes\n",
              "3    L  green  female  129.0   380.0     no\n",
              "4    M    red  female   79.0   410.0    yes"
            ]
          },
          "metadata": {
            "tags": []
          },
          "execution_count": 389
        }
      ]
    },
    {
      "cell_type": "markdown",
      "metadata": {
        "id": "0pwPoBhOe34p"
      },
      "source": [
        "### <a name='5'></a> 6. OneHotEncoder"
      ]
    },
    {
      "cell_type": "code",
      "metadata": {
        "id": "7K7acNsffDhM"
      },
      "source": [
        "#jak się okaże w następnym punkcie, być może lepszą metodą niz OneHotEncoder jest pd.get_dummies()"
      ],
      "execution_count": 390,
      "outputs": []
    },
    {
      "cell_type": "code",
      "metadata": {
        "id": "Onzxr1sVfXZC"
      },
      "source": [
        "#OneHotEncoder jes zalecany z kolei do encodowania zmiennych objaśniających nazywanych często \"x\""
      ],
      "execution_count": 391,
      "outputs": []
    },
    {
      "cell_type": "code",
      "metadata": {
        "id": "WXFQS1shfotT"
      },
      "source": [
        "from sklearn.preprocessing import OneHotEncoder"
      ],
      "execution_count": 392,
      "outputs": []
    },
    {
      "cell_type": "code",
      "metadata": {
        "colab": {
          "base_uri": "https://localhost:8080/"
        },
        "id": "GDc1CHcQf2FU",
        "outputId": "5aee25be-2a89-4c1a-dcde-d5455793d871"
      },
      "source": [
        "ohe = OneHotEncoder(sparse=False) #gdy parametr sparse jest ustwiony domyślnie to w wyniku jest pokazywana tylko macierz rzadka\n",
        "ohe.fit_transform(df[['size']]) #trzeba pamiętać aby nazwę kolumny umieścić w jeszcze jednym nawiasie kwadratowym"
      ],
      "execution_count": 393,
      "outputs": [
        {
          "output_type": "execute_result",
          "data": {
            "text/plain": [
              "array([[0., 0., 1.],\n",
              "       [1., 0., 0.],\n",
              "       [0., 1., 0.],\n",
              "       [1., 0., 0.],\n",
              "       [0., 1., 0.]])"
            ]
          },
          "metadata": {
            "tags": []
          },
          "execution_count": 393
        }
      ]
    },
    {
      "cell_type": "code",
      "metadata": {
        "colab": {
          "base_uri": "https://localhost:8080/"
        },
        "id": "N2LfAEDXgFOi",
        "outputId": "02415974-4ea9-457d-a9a0-ebb2f9612011"
      },
      "source": [
        "ohe.categories_ #kategorie, które encodowano"
      ],
      "execution_count": 394,
      "outputs": [
        {
          "output_type": "execute_result",
          "data": {
            "text/plain": [
              "[array(['L', 'M', 'XL'], dtype=object)]"
            ]
          },
          "metadata": {
            "tags": []
          },
          "execution_count": 394
        }
      ]
    },
    {
      "cell_type": "code",
      "metadata": {
        "colab": {
          "base_uri": "https://localhost:8080/"
        },
        "id": "TuIOmj5NhY2J",
        "outputId": "4c1d5209-c30e-4902-bc15-7028ddaf8f04"
      },
      "source": [
        "#należy koniecznie pamiętać aby parametr drop ustawić na 'first' aby pozbyc się liniowej zależności pomiezy zmiennymi !!!!!!!!!!\n",
        "#jeśli w zbiorze danych jest n cech to po encodowniau powinno być ich n-1\n",
        "ohe = OneHotEncoder(drop='first', sparse=False) \n",
        "ohe.fit_transform(df[['size']])"
      ],
      "execution_count": 395,
      "outputs": [
        {
          "output_type": "execute_result",
          "data": {
            "text/plain": [
              "array([[0., 1.],\n",
              "       [0., 0.],\n",
              "       [1., 0.],\n",
              "       [0., 0.],\n",
              "       [1., 0.]])"
            ]
          },
          "metadata": {
            "tags": []
          },
          "execution_count": 395
        }
      ]
    },
    {
      "cell_type": "code",
      "metadata": {
        "id": "zmLfgMYfj0BG"
      },
      "source": [
        "#df['size'] = ohe.fit_transform(df[['size']])\n",
        "#df"
      ],
      "execution_count": 396,
      "outputs": []
    },
    {
      "cell_type": "markdown",
      "metadata": {
        "id": "ORSElz0xqt_f"
      },
      "source": [
        "### <a name='6'></a> 7. get_dummies()"
      ]
    },
    {
      "cell_type": "code",
      "metadata": {
        "id": "Ak2yhDqcrVWV"
      },
      "source": [
        "# chyba najlepsza metoda do encodowania danych kategorycznych"
      ],
      "execution_count": 397,
      "outputs": []
    },
    {
      "cell_type": "code",
      "metadata": {
        "colab": {
          "base_uri": "https://localhost:8080/",
          "height": 195
        },
        "id": "2YkM6d0osMJS",
        "outputId": "3f1ffac8-4a86-458f-89b6-01ce5da38b2f"
      },
      "source": [
        "#pd.get_dummies(data=df) #<-tak nie robić :D\n",
        "pd.get_dummies(data=df, drop_first=True) #podobnie jak w OneHotEncoder pozbywwamy sie pierwszej kolumny za pomocą parametru drop_first\n",
        "\n",
        "#pd.get_dummies(data=df, drop_first=True, columns=['size']) #można również encodować niektóre kolumny"
      ],
      "execution_count": 398,
      "outputs": [
        {
          "output_type": "execute_result",
          "data": {
            "text/html": [
              "<div>\n",
              "<style scoped>\n",
              "    .dataframe tbody tr th:only-of-type {\n",
              "        vertical-align: middle;\n",
              "    }\n",
              "\n",
              "    .dataframe tbody tr th {\n",
              "        vertical-align: top;\n",
              "    }\n",
              "\n",
              "    .dataframe thead th {\n",
              "        text-align: right;\n",
              "    }\n",
              "</style>\n",
              "<table border=\"1\" class=\"dataframe\">\n",
              "  <thead>\n",
              "    <tr style=\"text-align: right;\">\n",
              "      <th></th>\n",
              "      <th>price</th>\n",
              "      <th>weight</th>\n",
              "      <th>size_M</th>\n",
              "      <th>size_XL</th>\n",
              "      <th>color_green</th>\n",
              "      <th>color_red</th>\n",
              "      <th>gender_male</th>\n",
              "      <th>bought_yes</th>\n",
              "    </tr>\n",
              "  </thead>\n",
              "  <tbody>\n",
              "    <tr>\n",
              "      <th>0</th>\n",
              "      <td>199.0</td>\n",
              "      <td>500.0</td>\n",
              "      <td>0</td>\n",
              "      <td>1</td>\n",
              "      <td>0</td>\n",
              "      <td>1</td>\n",
              "      <td>0</td>\n",
              "      <td>1</td>\n",
              "    </tr>\n",
              "    <tr>\n",
              "      <th>1</th>\n",
              "      <td>89.0</td>\n",
              "      <td>450.0</td>\n",
              "      <td>0</td>\n",
              "      <td>0</td>\n",
              "      <td>1</td>\n",
              "      <td>0</td>\n",
              "      <td>1</td>\n",
              "      <td>0</td>\n",
              "    </tr>\n",
              "    <tr>\n",
              "      <th>2</th>\n",
              "      <td>99.0</td>\n",
              "      <td>300.0</td>\n",
              "      <td>1</td>\n",
              "      <td>0</td>\n",
              "      <td>0</td>\n",
              "      <td>0</td>\n",
              "      <td>1</td>\n",
              "      <td>1</td>\n",
              "    </tr>\n",
              "    <tr>\n",
              "      <th>3</th>\n",
              "      <td>129.0</td>\n",
              "      <td>380.0</td>\n",
              "      <td>0</td>\n",
              "      <td>0</td>\n",
              "      <td>1</td>\n",
              "      <td>0</td>\n",
              "      <td>0</td>\n",
              "      <td>0</td>\n",
              "    </tr>\n",
              "    <tr>\n",
              "      <th>4</th>\n",
              "      <td>79.0</td>\n",
              "      <td>410.0</td>\n",
              "      <td>1</td>\n",
              "      <td>0</td>\n",
              "      <td>0</td>\n",
              "      <td>1</td>\n",
              "      <td>0</td>\n",
              "      <td>1</td>\n",
              "    </tr>\n",
              "  </tbody>\n",
              "</table>\n",
              "</div>"
            ],
            "text/plain": [
              "   price  weight  size_M  ...  color_red  gender_male  bought_yes\n",
              "0  199.0   500.0       0  ...          1            0           1\n",
              "1   89.0   450.0       0  ...          0            1           0\n",
              "2   99.0   300.0       1  ...          0            1           1\n",
              "3  129.0   380.0       0  ...          0            0           0\n",
              "4   79.0   410.0       1  ...          1            0           1\n",
              "\n",
              "[5 rows x 8 columns]"
            ]
          },
          "metadata": {
            "tags": []
          },
          "execution_count": 398
        }
      ]
    },
    {
      "cell_type": "markdown",
      "metadata": {
        "id": "SOFJ4zecul4I"
      },
      "source": [
        "### <a name='7'></a> 8. Standaryzacja - StandardScaler"
      ]
    },
    {
      "cell_type": "code",
      "metadata": {
        "id": "SxO2wHxKyHEu"
      },
      "source": [
        "#standaryzuje sie dane numeryczne aby poszczególne zmienne miały równą \"moc\"\n",
        "#na przykład waga ma większe wartości niż cena przez co waga może mocniej wpływać na wyniki w modelu niż cena\n",
        "#dlatego najlepiej i najbezpieczniej jest sobie wystandaryzować zmienne"
      ],
      "execution_count": 399,
      "outputs": []
    },
    {
      "cell_type": "code",
      "metadata": {
        "colab": {
          "base_uri": "https://localhost:8080/"
        },
        "id": "UhggTRZ8ynOo",
        "outputId": "c60a3cd3-cb15-43b3-d244-6aeec412905a"
      },
      "source": [
        "from sklearn.preprocessing import StandardScaler\n",
        "\n",
        "ssc = StandardScaler()\n",
        "#ssc.fit(df[['price']])\n",
        "#ssc.transform(df[['price']])\n",
        "ssc.fit_transform(df[['price']])"
      ],
      "execution_count": 400,
      "outputs": [
        {
          "output_type": "execute_result",
          "data": {
            "text/plain": [
              "array([[ 1.84506242],\n",
              "       [-0.69189841],\n",
              "       [-0.4612656 ],\n",
              "       [ 0.2306328 ],\n",
              "       [-0.92253121]])"
            ]
          },
          "metadata": {
            "tags": []
          },
          "execution_count": 400
        }
      ]
    },
    {
      "cell_type": "code",
      "metadata": {
        "id": "HMFwHfaz1Q3x"
      },
      "source": [
        "#ssc.fit_transform(df[['price', 'weight']])"
      ],
      "execution_count": 401,
      "outputs": []
    },
    {
      "cell_type": "code",
      "metadata": {
        "colab": {
          "base_uri": "https://localhost:8080/"
        },
        "id": "zknFC_RH1mgo",
        "outputId": "ae2cfa77-f057-4000-80b1-41456914d26e"
      },
      "source": [
        "df.describe().columns"
      ],
      "execution_count": 402,
      "outputs": [
        {
          "output_type": "execute_result",
          "data": {
            "text/plain": [
              "Index(['price', 'weight'], dtype='object')"
            ]
          },
          "metadata": {
            "tags": []
          },
          "execution_count": 402
        }
      ]
    },
    {
      "cell_type": "code",
      "metadata": {
        "id": "Ryhu_3dF2Suv"
      },
      "source": [
        "#fajny spsób na zarzucenie pętli na standaryzację wszystkich kolumn numerycznych\n",
        "#columns = ['price', 'weight']\n",
        "for col in df.describe().columns:\n",
        "  df[col] = ssc.fit_transform(df[[col]])"
      ],
      "execution_count": 403,
      "outputs": []
    },
    {
      "cell_type": "code",
      "metadata": {
        "colab": {
          "base_uri": "https://localhost:8080/",
          "height": 195
        },
        "id": "h6sbjFOC2sf5",
        "outputId": "9f287cbd-a4ec-4035-fc73-0f5fc4cdd8d8"
      },
      "source": [
        "df"
      ],
      "execution_count": 404,
      "outputs": [
        {
          "output_type": "execute_result",
          "data": {
            "text/html": [
              "<div>\n",
              "<style scoped>\n",
              "    .dataframe tbody tr th:only-of-type {\n",
              "        vertical-align: middle;\n",
              "    }\n",
              "\n",
              "    .dataframe tbody tr th {\n",
              "        vertical-align: top;\n",
              "    }\n",
              "\n",
              "    .dataframe thead th {\n",
              "        text-align: right;\n",
              "    }\n",
              "</style>\n",
              "<table border=\"1\" class=\"dataframe\">\n",
              "  <thead>\n",
              "    <tr style=\"text-align: right;\">\n",
              "      <th></th>\n",
              "      <th>size</th>\n",
              "      <th>color</th>\n",
              "      <th>gender</th>\n",
              "      <th>price</th>\n",
              "      <th>weight</th>\n",
              "      <th>bought</th>\n",
              "    </tr>\n",
              "  </thead>\n",
              "  <tbody>\n",
              "    <tr>\n",
              "      <th>0</th>\n",
              "      <td>XL</td>\n",
              "      <td>red</td>\n",
              "      <td>female</td>\n",
              "      <td>1.845062</td>\n",
              "      <td>1.366002</td>\n",
              "      <td>yes</td>\n",
              "    </tr>\n",
              "    <tr>\n",
              "      <th>1</th>\n",
              "      <td>L</td>\n",
              "      <td>green</td>\n",
              "      <td>male</td>\n",
              "      <td>-0.691898</td>\n",
              "      <td>0.623610</td>\n",
              "      <td>no</td>\n",
              "    </tr>\n",
              "    <tr>\n",
              "      <th>2</th>\n",
              "      <td>M</td>\n",
              "      <td>blue</td>\n",
              "      <td>male</td>\n",
              "      <td>-0.461266</td>\n",
              "      <td>-1.603567</td>\n",
              "      <td>yes</td>\n",
              "    </tr>\n",
              "    <tr>\n",
              "      <th>3</th>\n",
              "      <td>L</td>\n",
              "      <td>green</td>\n",
              "      <td>female</td>\n",
              "      <td>0.230633</td>\n",
              "      <td>-0.415740</td>\n",
              "      <td>no</td>\n",
              "    </tr>\n",
              "    <tr>\n",
              "      <th>4</th>\n",
              "      <td>M</td>\n",
              "      <td>red</td>\n",
              "      <td>female</td>\n",
              "      <td>-0.922531</td>\n",
              "      <td>0.029696</td>\n",
              "      <td>yes</td>\n",
              "    </tr>\n",
              "  </tbody>\n",
              "</table>\n",
              "</div>"
            ],
            "text/plain": [
              "  size  color  gender     price    weight bought\n",
              "0   XL    red  female  1.845062  1.366002    yes\n",
              "1    L  green    male -0.691898  0.623610     no\n",
              "2    M   blue    male -0.461266 -1.603567    yes\n",
              "3    L  green  female  0.230633 -0.415740     no\n",
              "4    M    red  female -0.922531  0.029696    yes"
            ]
          },
          "metadata": {
            "tags": []
          },
          "execution_count": 404
        }
      ]
    },
    {
      "cell_type": "markdown",
      "metadata": {
        "id": "BC3pMiKy2usQ"
      },
      "source": [
        "### <a name='8'></a> 9. Przygotowanie danych do modelu - podsumowanie"
      ]
    },
    {
      "cell_type": "code",
      "metadata": {
        "colab": {
          "base_uri": "https://localhost:8080/",
          "height": 195
        },
        "id": "6PYedDEq9i2C",
        "outputId": "88a6797d-598d-4ed9-fbdd-cdbbbe205a5e"
      },
      "source": [
        "df"
      ],
      "execution_count": 405,
      "outputs": [
        {
          "output_type": "execute_result",
          "data": {
            "text/html": [
              "<div>\n",
              "<style scoped>\n",
              "    .dataframe tbody tr th:only-of-type {\n",
              "        vertical-align: middle;\n",
              "    }\n",
              "\n",
              "    .dataframe tbody tr th {\n",
              "        vertical-align: top;\n",
              "    }\n",
              "\n",
              "    .dataframe thead th {\n",
              "        text-align: right;\n",
              "    }\n",
              "</style>\n",
              "<table border=\"1\" class=\"dataframe\">\n",
              "  <thead>\n",
              "    <tr style=\"text-align: right;\">\n",
              "      <th></th>\n",
              "      <th>size</th>\n",
              "      <th>color</th>\n",
              "      <th>gender</th>\n",
              "      <th>price</th>\n",
              "      <th>weight</th>\n",
              "      <th>bought</th>\n",
              "    </tr>\n",
              "  </thead>\n",
              "  <tbody>\n",
              "    <tr>\n",
              "      <th>0</th>\n",
              "      <td>XL</td>\n",
              "      <td>red</td>\n",
              "      <td>female</td>\n",
              "      <td>1.845062</td>\n",
              "      <td>1.366002</td>\n",
              "      <td>yes</td>\n",
              "    </tr>\n",
              "    <tr>\n",
              "      <th>1</th>\n",
              "      <td>L</td>\n",
              "      <td>green</td>\n",
              "      <td>male</td>\n",
              "      <td>-0.691898</td>\n",
              "      <td>0.623610</td>\n",
              "      <td>no</td>\n",
              "    </tr>\n",
              "    <tr>\n",
              "      <th>2</th>\n",
              "      <td>M</td>\n",
              "      <td>blue</td>\n",
              "      <td>male</td>\n",
              "      <td>-0.461266</td>\n",
              "      <td>-1.603567</td>\n",
              "      <td>yes</td>\n",
              "    </tr>\n",
              "    <tr>\n",
              "      <th>3</th>\n",
              "      <td>L</td>\n",
              "      <td>green</td>\n",
              "      <td>female</td>\n",
              "      <td>0.230633</td>\n",
              "      <td>-0.415740</td>\n",
              "      <td>no</td>\n",
              "    </tr>\n",
              "    <tr>\n",
              "      <th>4</th>\n",
              "      <td>M</td>\n",
              "      <td>red</td>\n",
              "      <td>female</td>\n",
              "      <td>-0.922531</td>\n",
              "      <td>0.029696</td>\n",
              "      <td>yes</td>\n",
              "    </tr>\n",
              "  </tbody>\n",
              "</table>\n",
              "</div>"
            ],
            "text/plain": [
              "  size  color  gender     price    weight bought\n",
              "0   XL    red  female  1.845062  1.366002    yes\n",
              "1    L  green    male -0.691898  0.623610     no\n",
              "2    M   blue    male -0.461266 -1.603567    yes\n",
              "3    L  green  female  0.230633 -0.415740     no\n",
              "4    M    red  female -0.922531  0.029696    yes"
            ]
          },
          "metadata": {
            "tags": []
          },
          "execution_count": 405
        }
      ]
    },
    {
      "cell_type": "code",
      "metadata": {
        "colab": {
          "base_uri": "https://localhost:8080/",
          "height": 195
        },
        "id": "wYmK0x5T5uHd",
        "outputId": "6e4f055b-4adc-48a6-dd8e-954c4fb61d29"
      },
      "source": [
        "df = df_raw.copy()\n",
        "df"
      ],
      "execution_count": 406,
      "outputs": [
        {
          "output_type": "execute_result",
          "data": {
            "text/html": [
              "<div>\n",
              "<style scoped>\n",
              "    .dataframe tbody tr th:only-of-type {\n",
              "        vertical-align: middle;\n",
              "    }\n",
              "\n",
              "    .dataframe tbody tr th {\n",
              "        vertical-align: top;\n",
              "    }\n",
              "\n",
              "    .dataframe thead th {\n",
              "        text-align: right;\n",
              "    }\n",
              "</style>\n",
              "<table border=\"1\" class=\"dataframe\">\n",
              "  <thead>\n",
              "    <tr style=\"text-align: right;\">\n",
              "      <th></th>\n",
              "      <th>size</th>\n",
              "      <th>color</th>\n",
              "      <th>gender</th>\n",
              "      <th>price</th>\n",
              "      <th>weight</th>\n",
              "      <th>bought</th>\n",
              "    </tr>\n",
              "  </thead>\n",
              "  <tbody>\n",
              "    <tr>\n",
              "      <th>0</th>\n",
              "      <td>XL</td>\n",
              "      <td>red</td>\n",
              "      <td>female</td>\n",
              "      <td>199.0</td>\n",
              "      <td>500</td>\n",
              "      <td>yes</td>\n",
              "    </tr>\n",
              "    <tr>\n",
              "      <th>1</th>\n",
              "      <td>L</td>\n",
              "      <td>green</td>\n",
              "      <td>male</td>\n",
              "      <td>89.0</td>\n",
              "      <td>450</td>\n",
              "      <td>no</td>\n",
              "    </tr>\n",
              "    <tr>\n",
              "      <th>2</th>\n",
              "      <td>M</td>\n",
              "      <td>blue</td>\n",
              "      <td>male</td>\n",
              "      <td>99.0</td>\n",
              "      <td>300</td>\n",
              "      <td>yes</td>\n",
              "    </tr>\n",
              "    <tr>\n",
              "      <th>3</th>\n",
              "      <td>L</td>\n",
              "      <td>green</td>\n",
              "      <td>female</td>\n",
              "      <td>129.0</td>\n",
              "      <td>380</td>\n",
              "      <td>no</td>\n",
              "    </tr>\n",
              "    <tr>\n",
              "      <th>4</th>\n",
              "      <td>M</td>\n",
              "      <td>red</td>\n",
              "      <td>female</td>\n",
              "      <td>79.0</td>\n",
              "      <td>410</td>\n",
              "      <td>yes</td>\n",
              "    </tr>\n",
              "  </tbody>\n",
              "</table>\n",
              "</div>"
            ],
            "text/plain": [
              "  size  color  gender  price  weight bought\n",
              "0   XL    red  female  199.0     500    yes\n",
              "1    L  green    male   89.0     450     no\n",
              "2    M   blue    male   99.0     300    yes\n",
              "3    L  green  female  129.0     380     no\n",
              "4    M    red  female   79.0     410    yes"
            ]
          },
          "metadata": {
            "tags": []
          },
          "execution_count": 406
        }
      ]
    },
    {
      "cell_type": "code",
      "metadata": {
        "colab": {
          "base_uri": "https://localhost:8080/"
        },
        "id": "abHzjvQC9m93",
        "outputId": "8e1c2b8c-4ec4-43d1-e5ad-11436906da1f"
      },
      "source": [
        "df.info()"
      ],
      "execution_count": 407,
      "outputs": [
        {
          "output_type": "stream",
          "text": [
            "<class 'pandas.core.frame.DataFrame'>\n",
            "RangeIndex: 5 entries, 0 to 4\n",
            "Data columns (total 6 columns):\n",
            " #   Column  Non-Null Count  Dtype  \n",
            "---  ------  --------------  -----  \n",
            " 0   size    5 non-null      object \n",
            " 1   color   5 non-null      object \n",
            " 2   gender  5 non-null      object \n",
            " 3   price   5 non-null      float64\n",
            " 4   weight  5 non-null      int64  \n",
            " 5   bought  5 non-null      object \n",
            "dtypes: float64(1), int64(1), object(4)\n",
            "memory usage: 368.0+ bytes\n"
          ],
          "name": "stdout"
        }
      ]
    },
    {
      "cell_type": "code",
      "metadata": {
        "id": "DrbWIFCl4-9R"
      },
      "source": [
        "#import numpy as np\n",
        "#import pandas as pd\n",
        "#from sklearn.preprocessing import LabelEncoder\n",
        "#from sklearn.preprocessing import OneHotEncoder\n",
        "#from sklearn.preprocessing import StandardScaler # import bibliotek został wykonany wcześniej\n",
        "\n",
        "#najpierw powinno być chyba uzupełnianie braków?\n",
        "\n",
        "\n",
        "#optymalizacja typów zmiennych numerycznych\n",
        "for col in df.describe().columns:\n",
        "  df[col] = df[col].astype('float')\n",
        "\n",
        "\n",
        "#optymalizacja typów zmiennych tekstowych\n",
        "#for colCat in df.describe(include='object').columns: # coś tu nie działa\n",
        "colCat = ['size', 'color', 'gender', 'bought']\n",
        "for col in colCat:\n",
        "  df[col] = df[col].astype('category')\n",
        "\n",
        "\n",
        "#standaryzacja zmiennych numerycznych\n",
        "scaler = StandardScaler()\n",
        "\n",
        "for col in df.describe().columns:\n",
        "  df[col] = scaler.fit_transform(df[[col]])\n",
        "\n",
        "\n",
        "#encodowanie zmiennej objaśnianej \"y\"\n",
        "lenc = LabelEncoder()\n",
        "df['bought'] = lenc.fit_transform(df['bought'])\n",
        "\n",
        "\n",
        "#encodowanie zmiennych objaśniających \"X\"\n",
        "columns_X = ['size', 'color', 'gender']\n",
        "df = pd.get_dummies(data=df, drop_first=True, columns=columns_X)"
      ],
      "execution_count": 408,
      "outputs": []
    },
    {
      "cell_type": "code",
      "metadata": {
        "colab": {
          "base_uri": "https://localhost:8080/",
          "height": 195
        },
        "id": "T2Y6F_XU_zln",
        "outputId": "0e228c26-a65a-4bfd-c156-afd4f5d63365"
      },
      "source": [
        "df"
      ],
      "execution_count": 409,
      "outputs": [
        {
          "output_type": "execute_result",
          "data": {
            "text/html": [
              "<div>\n",
              "<style scoped>\n",
              "    .dataframe tbody tr th:only-of-type {\n",
              "        vertical-align: middle;\n",
              "    }\n",
              "\n",
              "    .dataframe tbody tr th {\n",
              "        vertical-align: top;\n",
              "    }\n",
              "\n",
              "    .dataframe thead th {\n",
              "        text-align: right;\n",
              "    }\n",
              "</style>\n",
              "<table border=\"1\" class=\"dataframe\">\n",
              "  <thead>\n",
              "    <tr style=\"text-align: right;\">\n",
              "      <th></th>\n",
              "      <th>price</th>\n",
              "      <th>weight</th>\n",
              "      <th>bought</th>\n",
              "      <th>size_M</th>\n",
              "      <th>size_XL</th>\n",
              "      <th>color_green</th>\n",
              "      <th>color_red</th>\n",
              "      <th>gender_male</th>\n",
              "    </tr>\n",
              "  </thead>\n",
              "  <tbody>\n",
              "    <tr>\n",
              "      <th>0</th>\n",
              "      <td>1.845062</td>\n",
              "      <td>1.366002</td>\n",
              "      <td>1</td>\n",
              "      <td>0</td>\n",
              "      <td>1</td>\n",
              "      <td>0</td>\n",
              "      <td>1</td>\n",
              "      <td>0</td>\n",
              "    </tr>\n",
              "    <tr>\n",
              "      <th>1</th>\n",
              "      <td>-0.691898</td>\n",
              "      <td>0.623610</td>\n",
              "      <td>0</td>\n",
              "      <td>0</td>\n",
              "      <td>0</td>\n",
              "      <td>1</td>\n",
              "      <td>0</td>\n",
              "      <td>1</td>\n",
              "    </tr>\n",
              "    <tr>\n",
              "      <th>2</th>\n",
              "      <td>-0.461266</td>\n",
              "      <td>-1.603567</td>\n",
              "      <td>1</td>\n",
              "      <td>1</td>\n",
              "      <td>0</td>\n",
              "      <td>0</td>\n",
              "      <td>0</td>\n",
              "      <td>1</td>\n",
              "    </tr>\n",
              "    <tr>\n",
              "      <th>3</th>\n",
              "      <td>0.230633</td>\n",
              "      <td>-0.415740</td>\n",
              "      <td>0</td>\n",
              "      <td>0</td>\n",
              "      <td>0</td>\n",
              "      <td>1</td>\n",
              "      <td>0</td>\n",
              "      <td>0</td>\n",
              "    </tr>\n",
              "    <tr>\n",
              "      <th>4</th>\n",
              "      <td>-0.922531</td>\n",
              "      <td>0.029696</td>\n",
              "      <td>1</td>\n",
              "      <td>1</td>\n",
              "      <td>0</td>\n",
              "      <td>0</td>\n",
              "      <td>1</td>\n",
              "      <td>0</td>\n",
              "    </tr>\n",
              "  </tbody>\n",
              "</table>\n",
              "</div>"
            ],
            "text/plain": [
              "      price    weight  bought  ...  color_green  color_red  gender_male\n",
              "0  1.845062  1.366002       1  ...            0          1            0\n",
              "1 -0.691898  0.623610       0  ...            1          0            1\n",
              "2 -0.461266 -1.603567       1  ...            0          0            1\n",
              "3  0.230633 -0.415740       0  ...            1          0            0\n",
              "4 -0.922531  0.029696       1  ...            0          1            0\n",
              "\n",
              "[5 rows x 8 columns]"
            ]
          },
          "metadata": {
            "tags": []
          },
          "execution_count": 409
        }
      ]
    }
  ]
}