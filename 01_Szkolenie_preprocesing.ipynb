{
  "nbformat": 4,
  "nbformat_minor": 0,
  "metadata": {
    "colab": {
      "name": "01_Szkolenie_preprocesing.ipynb",
      "provenance": [],
      "collapsed_sections": [],
      "authorship_tag": "ABX9TyOkapuHe7xVr+gRBfDdmKXB",
      "include_colab_link": true
    },
    "kernelspec": {
      "name": "python3",
      "display_name": "Python 3"
    },
    "language_info": {
      "name": "python"
    }
  },
  "cells": [
    {
      "cell_type": "markdown",
      "metadata": {
        "id": "view-in-github",
        "colab_type": "text"
      },
      "source": [
        "<a href=\"https://colab.research.google.com/github/bartlomiejmiszewski/Nauka/blob/main/01_Szkolenie_preprocesing.ipynb\" target=\"_parent\"><img src=\"https://colab.research.google.com/assets/colab-badge.svg\" alt=\"Open In Colab\"/></a>"
      ]
    },
    {
      "cell_type": "markdown",
      "metadata": {
        "id": "rTophDOO1TYo"
      },
      "source": [
        "# Szkolenie preprocesing"
      ]
    },
    {
      "cell_type": "markdown",
      "metadata": {
        "id": "lbxzoRYuIhXm"
      },
      "source": [
        "### Scikitlearn\n",
        "Strona biblioteki: [https://scikit-learn.org](https://scikit-learn.org)  \n",
        "\n",
        "Dokumentacja/User Guide: [https://scikit-learn.org/stable/user_guide.html](https://scikit-learn.org/stable/user_guide.html)\n",
        "\n",
        "Ćwiczenia przy użyciu poniższych bibliotek:\n",
        "\n",
        "*   from sklearn.preprocessing import LabelEncoder\n",
        "*   from sklearn.preprocessing import OneHotEncoder\n",
        "*   from sklearn.preprocessing import scale\n",
        "*   from sklearn.preprocessing import StandardScaler\n",
        "\n",
        "oraz pd.get_dummies()\n"
      ]
    },
    {
      "cell_type": "markdown",
      "metadata": {
        "id": "aq06Z1-OHjng"
      },
      "source": [
        "### Preprocessing danych spis treści ćwiczeń:\n",
        "\n",
        "\n",
        "\n",
        "1.   [Wygenerowanie danych](#0)\n",
        "2.   [Utworzenie kopii danych](#1)\n",
        "3.   [Zmiana typu danych i wstępna eksploracja](#2)\n",
        "\n",
        "\n"
      ]
    },
    {
      "cell_type": "markdown",
      "metadata": {
        "id": "JGgIW7CYKcJu"
      },
      "source": [
        "### <a name='0'></a> 1. Wygenerowanie danych"
      ]
    },
    {
      "cell_type": "code",
      "metadata": {
        "id": "KYkSOL9EKl0Q"
      },
      "source": [
        ""
      ],
      "execution_count": null,
      "outputs": []
    },
    {
      "cell_type": "markdown",
      "metadata": {
        "id": "5gTQbZNHKycN"
      },
      "source": [
        "### <a name='1'></a> 2. Utworzenie kopii danych"
      ]
    },
    {
      "cell_type": "code",
      "metadata": {
        "id": "lnGQBdrBK4Fx"
      },
      "source": [
        ""
      ],
      "execution_count": null,
      "outputs": []
    },
    {
      "cell_type": "markdown",
      "metadata": {
        "id": "lm3QjUeJLmJO"
      },
      "source": [
        "### <a name='2'></a> 3. Zmiana typu danych i wstępna eksploracja"
      ]
    },
    {
      "cell_type": "code",
      "metadata": {
        "id": "LrgOyCfnLvz5"
      },
      "source": [
        ""
      ],
      "execution_count": null,
      "outputs": []
    }
  ]
}